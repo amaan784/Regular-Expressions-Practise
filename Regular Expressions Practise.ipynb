{
 "cells": [
  {
   "cell_type": "markdown",
   "id": "0fc8153e",
   "metadata": {},
   "source": [
    "# Regular Expressions Practise"
   ]
  },
  {
   "cell_type": "markdown",
   "id": "d9b37169",
   "metadata": {},
   "source": [
    "###### Sources -\n",
    "https://classes.soe.ucsc.edu/cse143/Spring22/slides/text-processing.pdf\n",
    "https://www.w3schools.com/python/python_regex.asp"
   ]
  },
  {
   "cell_type": "code",
   "execution_count": null,
   "id": "8630d802",
   "metadata": {},
   "outputs": [],
   "source": [
    "import re"
   ]
  },
  {
   "cell_type": "code",
   "execution_count": null,
   "id": "817e8b35",
   "metadata": {},
   "outputs": [],
   "source": [
    "Letters inside Square Brackets"
   ]
  },
  {
   "cell_type": "markdown",
   "id": "57bdc593",
   "metadata": {},
   "source": [
    "Ranges"
   ]
  },
  {
   "cell_type": "code",
   "execution_count": null,
   "id": "2b94e13f",
   "metadata": {},
   "outputs": [],
   "source": [
    "Negation"
   ]
  },
  {
   "cell_type": "code",
   "execution_count": null,
   "id": "bc45aee9",
   "metadata": {},
   "outputs": [],
   "source": [
    "Pipe"
   ]
  }
 ],
 "metadata": {
  "kernelspec": {
   "display_name": "Python 3",
   "language": "python",
   "name": "python3"
  },
  "language_info": {
   "codemirror_mode": {
    "name": "ipython",
    "version": 3
   },
   "file_extension": ".py",
   "mimetype": "text/x-python",
   "name": "python",
   "nbconvert_exporter": "python",
   "pygments_lexer": "ipython3",
   "version": "3.8.8"
  }
 },
 "nbformat": 4,
 "nbformat_minor": 5
}
