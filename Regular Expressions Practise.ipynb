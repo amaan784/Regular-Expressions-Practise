{
 "cells": [
  {
   "cell_type": "markdown",
   "id": "0fc8153e",
   "metadata": {},
   "source": [
    "# Regular Expressions Practise"
   ]
  },
  {
   "cell_type": "markdown",
   "id": "d9b37169",
   "metadata": {},
   "source": [
    "###### Sources -\n",
    "https://classes.soe.ucsc.edu/cse143/Spring22/slides/text-processing.pdf\n",
    "\n",
    "https://www.w3schools.com/python/python_regex.asp"
   ]
  },
  {
   "cell_type": "code",
   "execution_count": null,
   "id": "8630d802",
   "metadata": {},
   "outputs": [],
   "source": [
    "import re"
   ]
  },
  {
   "cell_type": "markdown",
   "id": "85bdc0d6",
   "metadata": {},
   "source": [
    "Letters inside Square Brackets"
   ]
  },
  {
   "cell_type": "markdown",
   "id": "57bdc593",
   "metadata": {},
   "source": [
    "Ranges"
   ]
  },
  {
   "cell_type": "markdown",
   "id": "90c2134c",
   "metadata": {},
   "source": [
    "Negation"
   ]
  },
  {
   "cell_type": "markdown",
   "id": "8679c82a",
   "metadata": {},
   "source": [
    "Pipe"
   ]
  }
 ],
 "metadata": {
  "kernelspec": {
   "display_name": "Python 3",
   "language": "python",
   "name": "python3"
  },
  "language_info": {
   "codemirror_mode": {
    "name": "ipython",
    "version": 3
   },
   "file_extension": ".py",
   "mimetype": "text/x-python",
   "name": "python",
   "nbconvert_exporter": "python",
   "pygments_lexer": "ipython3",
   "version": "3.8.8"
  }
 },
 "nbformat": 4,
 "nbformat_minor": 5
}
