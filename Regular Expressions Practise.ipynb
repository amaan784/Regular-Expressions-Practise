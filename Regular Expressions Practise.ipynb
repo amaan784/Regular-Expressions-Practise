{
 "cells": [
  {
   "cell_type": "markdown",
   "id": "0fc8153e",
   "metadata": {},
   "source": [
    "# Regular Expressions Practise"
   ]
  },
  {
   "cell_type": "markdown",
   "id": "d9b37169",
   "metadata": {},
   "source": [
    "###### Sources -\n",
    "https://classes.soe.ucsc.edu/cse143/Spring22/slides/text-processing.pdf\n",
    "\n",
    "https://www.w3schools.com/python/python_regex.asp"
   ]
  },
  {
   "cell_type": "markdown",
   "id": "ffbd265a",
   "metadata": {},
   "source": [
    "### From"
   ]
  },
  {
   "cell_type": "markdown",
   "id": "85bdc0d6",
   "metadata": {},
   "source": [
    "Letters inside Square Brackets"
   ]
  },
  {
   "cell_type": "markdown",
   "id": "57bdc593",
   "metadata": {},
   "source": [
    "Ranges"
   ]
  },
  {
   "cell_type": "markdown",
   "id": "90c2134c",
   "metadata": {},
   "source": [
    "Negation"
   ]
  },
  {
   "cell_type": "markdown",
   "id": "8679c82a",
   "metadata": {},
   "source": [
    "Pipe"
   ]
  },
  {
   "cell_type": "markdown",
   "id": "c2b325c4",
   "metadata": {},
   "source": [
    "### From"
   ]
  },
  {
   "cell_type": "markdown",
   "id": "96557336",
   "metadata": {},
   "source": [
    "Rough overview of the following-\n",
    " \n",
    "- re module\n",
    "- methods to search for matches\n",
    "- methods on a match object\n",
    "- more special sequences\n",
    "- sets\n",
    "- quantifiers\n",
    "- conditions\n",
    "- grouping\n",
    "- modification\n",
    "- compilation flags\n"
   ]
  },
  {
   "cell_type": "code",
   "execution_count": 1,
   "id": "8630d802",
   "metadata": {},
   "outputs": [],
   "source": [
    "# built in module for regex\n",
    "import re"
   ]
  },
  {
   "cell_type": "code",
   "execution_count": 2,
   "id": "1508aebc",
   "metadata": {},
   "outputs": [],
   "source": [
    "test_string = \"123abc123ABC123789abc\""
   ]
  },
  {
   "cell_type": "markdown",
   "id": "18b9de79",
   "metadata": {},
   "source": [
    "### GOAL: search for the pattern \"abc\""
   ]
  },
  {
   "cell_type": "code",
   "execution_count": 3,
   "id": "63f37ecb",
   "metadata": {},
   "outputs": [
    {
     "name": "stdout",
     "output_type": "stream",
     "text": [
      "<re.Match object; span=(3, 6), match='abc'>\n",
      "<re.Match object; span=(18, 21), match='abc'>\n"
     ]
    }
   ],
   "source": [
    "# GOAL: search for the pattern \"abc\"\n",
    "\n",
    "# we compile the string\n",
    "# r denotes raw string\n",
    "pattern = re.compile(r\"abc\")\n",
    "\n",
    "# finditer() will find all substrings where the RE matches and it will return them as an iterator\n",
    "# use the pattern above to find the matches in the test string\n",
    "# we get a bunch of match objects\n",
    "matches = pattern.finditer(test_string)\n",
    "\n",
    "# we print the match objects \n",
    "# the match objects include the start index and end index of every occurence along with patterns \n",
    "for match in matches:\n",
    "    print(match)"
   ]
  },
  {
   "cell_type": "code",
   "execution_count": 4,
   "id": "97e8960f",
   "metadata": {},
   "outputs": [
    {
     "name": "stdout",
     "output_type": "stream",
     "text": [
      "<re.Match object; span=(3, 6), match='abc'>\n",
      "<re.Match object; span=(18, 21), match='abc'>\n"
     ]
    }
   ],
   "source": [
    "# we can also look for the patterns directly using find iter instead of compiling but the method above is reccomended\n",
    "\n",
    "matches = re.finditer(r\"abc\", test_string)\n",
    "\n",
    "for match in matches:\n",
    "    print(match)"
   ]
  },
  {
   "cell_type": "code",
   "execution_count": 5,
   "id": "8b004658",
   "metadata": {},
   "outputs": [
    {
     "name": "stdout",
     "output_type": "stream",
     "text": [
      "abc\n",
      "abc\n"
     ]
    }
   ],
   "source": [
    "# findall() will find all substrings where thr RE macthes and it will return them as a list\n",
    "# if we just want to print the patterns then we can use 'findall' instead of 'finditer'\n",
    "pattern = re.compile(r\"abc\") \n",
    "matches = pattern.findall(test_string)\n",
    "\n",
    "for match in matches:\n",
    "    print(match)"
   ]
  },
  {
   "cell_type": "markdown",
   "id": "d66e71e7",
   "metadata": {},
   "source": [
    "#### RAW STRING explaination-"
   ]
  },
  {
   "cell_type": "code",
   "execution_count": 6,
   "id": "00d9d9b3",
   "metadata": {},
   "outputs": [
    {
     "name": "stdout",
     "output_type": "stream",
     "text": [
      "\tHello\n",
      "\\tHello\n"
     ]
    }
   ],
   "source": [
    "# if there is a case when we need to consider spaces we might not be able to get what we are looking for\n",
    "# so thats when r helps\n",
    "a = \"\\tHello\"\n",
    "print(a)\n",
    "\n",
    "a = r\"\\tHello\"\n",
    "print(a)"
   ]
  },
  {
   "cell_type": "markdown",
   "id": "88d02d75",
   "metadata": {},
   "source": [
    "### match() "
   ]
  },
  {
   "cell_type": "code",
   "execution_count": 7,
   "id": "1294a0bb",
   "metadata": {},
   "outputs": [
    {
     "name": "stdout",
     "output_type": "stream",
     "text": [
      "<re.Match object; span=(0, 3), match='123'>\n",
      "None\n"
     ]
    }
   ],
   "source": [
    "# match() will determine if the RE matches at the beginning of the string\n",
    "# basically it will Look for matches at the beginning of the string\n",
    "\n",
    "\n",
    "# this will give a match object\n",
    "pattern = re.compile(r\"123\")\n",
    "match = pattern.match(test_string)\n",
    "print(match)\n",
    "\n",
    "# this will return None since abc is not in the beginning of the string\n",
    "pattern = re.compile(r\"abc\")\n",
    "match = pattern.match(test_string)\n",
    "print(match)"
   ]
  },
  {
   "cell_type": "markdown",
   "id": "1862ae59",
   "metadata": {},
   "source": [
    "### search()"
   ]
  },
  {
   "cell_type": "code",
   "execution_count": 8,
   "id": "ef4a80bc",
   "metadata": {},
   "outputs": [
    {
     "name": "stdout",
     "output_type": "stream",
     "text": [
      "<re.Match object; span=(3, 6), match='abc'>\n"
     ]
    }
   ],
   "source": [
    "# search() will scan through the string and look for any location where the RE matches\n",
    "# will look for the first possible occurence of the pattern\n",
    "\n",
    "# in this case it will return a match object\n",
    "pattern = re.compile(r\"abc\")\n",
    "match = pattern.search(test_string)\n",
    "print(match)         "
   ]
  },
  {
   "cell_type": "markdown",
   "id": "601382c9",
   "metadata": {},
   "source": [
    "### Methods on a match object / Prcoessing information from match objects using group, start, end, span-"
   ]
  },
  {
   "cell_type": "code",
   "execution_count": 9,
   "id": "3e2dbc27",
   "metadata": {},
   "outputs": [
    {
     "name": "stdout",
     "output_type": "stream",
     "text": [
      "abc 3 6 (3, 6)\n",
      "abc 18 21 (18, 21)\n"
     ]
    }
   ],
   "source": [
    "pattern = re.compile(r\"abc\")\n",
    "matches = pattern.finditer(test_string)\n",
    "\n",
    "# group() will give the pattern string\n",
    "# start() will give the start index of the pattern occurrence\n",
    "# end() will give the end indexx of the pattern occrence\n",
    "# span() will give a tuple of the start index and the end index\n",
    "for match in matches:\n",
    "    print(match.group(), match.start(), match.end(), match.span())\n"
   ]
  },
  {
   "cell_type": "markdown",
   "id": "988e7d1e",
   "metadata": {},
   "source": [
    "# Meta Characters-\n",
    "\n",
    "#### . ^ $ * + ? { } [ ] \\ | ( )"
   ]
  },
  {
   "cell_type": "markdown",
   "id": "863e1ab2",
   "metadata": {},
   "source": [
    "#### 1) .\n",
    "\n",
    "The period / full stop will look for any character except the newline character \\n"
   ]
  },
  {
   "cell_type": "code",
   "execution_count": 10,
   "id": "209e66bb",
   "metadata": {},
   "outputs": [
    {
     "name": "stdout",
     "output_type": "stream",
     "text": [
      "1\n",
      "2\n",
      "3\n",
      "a\n",
      "b\n",
      "c\n",
      "1\n",
      "2\n",
      "3\n",
      "A\n",
      "B\n",
      "C\n",
      "1\n",
      "2\n",
      "3\n",
      "7\n",
      "8\n",
      "9\n",
      "a\n",
      "b\n",
      "c\n"
     ]
    }
   ],
   "source": [
    "# this will give all characters since the . looks for all characters except new line\n",
    "pattern = re.compile(r\".\")\n",
    "matches = pattern.finditer(test_string)\n",
    "\n",
    "for match in matches:\n",
    "    print(match.group())"
   ]
  },
  {
   "cell_type": "code",
   "execution_count": 11,
   "id": "b6aabdf6",
   "metadata": {},
   "outputs": [
    {
     "name": "stdout",
     "output_type": "stream",
     "text": [
      ".\n"
     ]
    }
   ],
   "source": [
    "# this will help find a dot in the string \n",
    "# we make use of the escape sequence\n",
    "# the test string is just a modified original test string with a dot\n",
    "pattern = re.compile(r\"\\.\")\n",
    "matches = pattern.finditer(\"123abc123ABC123789abc.\")\n",
    "\n",
    "for match in matches:\n",
    "    print(match.group())"
   ]
  },
  {
   "cell_type": "markdown",
   "id": "ec4cab0f",
   "metadata": {},
   "source": [
    "#### 2) ^\n",
    "\n",
    "Carot looks for patterns that start with a given string. Example \"^hello\" so this will give a pattern that starts with the string hello"
   ]
  },
  {
   "cell_type": "code",
   "execution_count": 12,
   "id": "57b53266",
   "metadata": {},
   "outputs": [
    {
     "name": "stdout",
     "output_type": "stream",
     "text": [
      "123\n"
     ]
    }
   ],
   "source": [
    "# this will give the 123 present in the beginning of the test string\n",
    "pattern = re.compile(r\"^123\")\n",
    "matches = pattern.finditer(test_string)\n",
    "\n",
    "for match in matches:\n",
    "    print(match.group())"
   ]
  },
  {
   "cell_type": "code",
   "execution_count": 13,
   "id": "56147ea1",
   "metadata": {},
   "outputs": [],
   "source": [
    "# this will not give anything since our test string does not start with abc\n",
    "pattern = re.compile(r\"^abc\")\n",
    "matches = pattern.finditer(test_string)\n",
    "\n",
    "for match in matches:\n",
    "    print(match.group())"
   ]
  },
  {
   "cell_type": "markdown",
   "id": "d259c0d9",
   "metadata": {},
   "source": [
    "#### 3) $\n",
    "\n",
    "The dollar sign looks for patterns that end with a given string. Example \"world$\" so this will give a pattern that ends with the string 'world'"
   ]
  },
  {
   "cell_type": "code",
   "execution_count": 14,
   "id": "7452046e",
   "metadata": {},
   "outputs": [],
   "source": [
    "# this will not give anything since our test string does end start with ABC\n",
    "# this is case sensitive\n",
    "pattern = re.compile(r\"ABC$\")\n",
    "matches = pattern.finditer(test_string)\n",
    "\n",
    "for match in matches:\n",
    "    print(match.group())"
   ]
  },
  {
   "cell_type": "code",
   "execution_count": 15,
   "id": "cf294d87",
   "metadata": {},
   "outputs": [
    {
     "name": "stdout",
     "output_type": "stream",
     "text": [
      "abc\n"
     ]
    }
   ],
   "source": [
    "# our test string ends with abc so this will return it\n",
    "pattern = re.compile(r\"abc$\")\n",
    "matches = pattern.finditer(test_string)\n",
    "\n",
    "for match in matches:\n",
    "    print(match.group())"
   ]
  },
  {
   "cell_type": "markdown",
   "id": "9fb73cbe",
   "metadata": {},
   "source": [
    "#### 4) *\n",
    "\n",
    "zero or more occurences \"aix*\""
   ]
  },
  {
   "cell_type": "markdown",
   "id": "59285570",
   "metadata": {},
   "source": [
    "#### 5) +\n",
    "\n",
    "one or more occurences \"aix+\""
   ]
  },
  {
   "cell_type": "markdown",
   "id": "f3957640",
   "metadata": {},
   "source": [
    "#### 6) ?\n",
    "\n"
   ]
  },
  {
   "cell_type": "markdown",
   "id": "ab391602",
   "metadata": {},
   "source": [
    "#### 7) { }\n",
    "\n",
    "exactly the specified number of occurences  \"al{2}\""
   ]
  },
  {
   "cell_type": "markdown",
   "id": "8e9c44c5",
   "metadata": {},
   "source": [
    "#### 8) [   ]\n",
    "\n",
    "A set of characters \"[a-m]\""
   ]
  },
  {
   "cell_type": "markdown",
   "id": "464c6c04",
   "metadata": {},
   "source": [
    "#### 9) \\\n",
    "\n",
    "special sequence (or escape special characters) \"\\d\""
   ]
  },
  {
   "cell_type": "markdown",
   "id": "0ba5280f",
   "metadata": {},
   "source": [
    "#### 10) |\n",
    "\n",
    "either or \"fall|stays\""
   ]
  },
  {
   "cell_type": "markdown",
   "id": "1b6dabb0",
   "metadata": {},
   "source": [
    "#### 11) ( )\n",
    "\n",
    "capture and group"
   ]
  },
  {
   "cell_type": "markdown",
   "id": "17e9fe9f",
   "metadata": {},
   "source": [
    "# More Special Characters-\n"
   ]
  },
  {
   "cell_type": "markdown",
   "id": "ee72a1ed",
   "metadata": {},
   "source": [
    "#### 1) \\d\n",
    "\n",
    "Matches any decimal digits [0-9]"
   ]
  },
  {
   "cell_type": "markdown",
   "id": "c0487c6c",
   "metadata": {},
   "source": [
    "#### 2) \\D\n",
    "\n",
    "Matches any non digit character"
   ]
  },
  {
   "cell_type": "markdown",
   "id": "d5c00323",
   "metadata": {},
   "source": [
    "#### 3) \\s\n",
    "\n",
    "Matches any whitespace character like space \"\" or tab \"\\t\" or newline \"\\n\""
   ]
  },
  {
   "cell_type": "markdown",
   "id": "bbc71f61",
   "metadata": {},
   "source": [
    "#### 4) \\S\n",
    "\n",
    "Matches any non whitespace character"
   ]
  },
  {
   "cell_type": "markdown",
   "id": "bf0cbc74",
   "metadata": {},
   "source": [
    "#### 5) \\w\n",
    "\n",
    "Matches any alphanumeric character [a-zA-Z0-9_] "
   ]
  },
  {
   "cell_type": "markdown",
   "id": "a8e22452",
   "metadata": {},
   "source": [
    "#### 6) \\W\n",
    "\n",
    "Matches any non alphanumeric character"
   ]
  },
  {
   "cell_type": "markdown",
   "id": "220af60f",
   "metadata": {},
   "source": [
    "#### 7) \\b\n",
    "\n",
    "Matches where the specified characters are at the beginning or at the end of the word r\"\\bain\" r\"ain\\b\""
   ]
  },
  {
   "cell_type": "markdown",
   "id": "65f02164",
   "metadata": {},
   "source": [
    "#### 8) \\B\n",
    " \n",
    "Matches where the specified characters are present but not at the beginning or at the end of the word r\"\\Bain\" r\"ain\\B\""
   ]
  }
 ],
 "metadata": {
  "kernelspec": {
   "display_name": "Python 3 (ipykernel)",
   "language": "python",
   "name": "python3"
  },
  "language_info": {
   "codemirror_mode": {
    "name": "ipython",
    "version": 3
   },
   "file_extension": ".py",
   "mimetype": "text/x-python",
   "name": "python",
   "nbconvert_exporter": "python",
   "pygments_lexer": "ipython3",
   "version": "3.11.5"
  }
 },
 "nbformat": 4,
 "nbformat_minor": 5
}
